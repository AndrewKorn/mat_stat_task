{
  "nbformat": 4,
  "nbformat_minor": 0,
  "metadata": {
    "colab": {
      "name": "MatStatTask.ipynb",
      "provenance": [],
      "collapsed_sections": [],
      "toc_visible": true,
      "include_colab_link": true
    },
    "kernelspec": {
      "name": "python3",
      "display_name": "Python 3"
    },
    "language_info": {
      "name": "python"
    }
  },
  "cells": [
    {
      "cell_type": "markdown",
      "metadata": {
        "id": "view-in-github",
        "colab_type": "text"
      },
      "source": [
        "<a href=\"https://colab.research.google.com/github/AndrewKorn/mat_stat_task/blob/main/MatStatTask.ipynb\" target=\"_parent\"><img src=\"https://colab.research.google.com/assets/colab-badge.svg\" alt=\"Open In Colab\"/></a>"
      ]
    },
    {
      "cell_type": "markdown",
      "source": [
        "#Первое задание"
      ],
      "metadata": {
        "id": "x7n2yw_oJFU1"
      }
    },
    {
      "cell_type": "code",
      "source": [
        "import math\n",
        "from scipy.stats import norm, kstwobign\n",
        "from scipy.stats.distributions import chi2, t, f"
      ],
      "metadata": {
        "id": "VCUfe4oWiCfa"
      },
      "execution_count": 1,
      "outputs": []
    },
    {
      "cell_type": "code",
      "execution_count": 2,
      "metadata": {
        "id": "peCuz6scEtbN"
      },
      "outputs": [],
      "source": [
        "data = [-1.439, -1.609, -3.889, -1.735, -3.096, 0.023, -1.414, -2.312, -2.648, -2.038,\n",
        "        -2.631, -2.233, -1.908, -2.356, -2.107, -2.949, -3.048, -2.019, -1.652, -2.285,\n",
        "        -2.446, -1.752, -1.990, -1.689, -1.552, -1.916, -2.036, -1.888, -0.726, -2.874,\n",
        "        -1.426, -1.432, -1.419, -2.090, -2.698, -2.494, -2.544, -2.825, -2.951, -1.814,\n",
        "        -3.014, -2.542, -2.912, -2.291, -2.103, -1.966, -0.769, -2.474, -1.987, -1.459]"
      ]
    },
    {
      "cell_type": "code",
      "source": [
        "mean = 0.0\n",
        "\n",
        "for num in data:\n",
        "  mean += num\n",
        "\n",
        "mean /= len(data)"
      ],
      "metadata": {
        "id": "4e0KeyifHnJ6"
      },
      "execution_count": 3,
      "outputs": []
    },
    {
      "cell_type": "code",
      "source": [
        "mean"
      ],
      "metadata": {
        "colab": {
          "base_uri": "https://localhost:8080/"
        },
        "id": "0USHVrQ3H2f-",
        "outputId": "5fdaf41b-1089-442f-e18c-cde0e9b6bf97"
      },
      "execution_count": 4,
      "outputs": [
        {
          "output_type": "execute_result",
          "data": {
            "text/plain": [
              "-2.1084799999999997"
            ]
          },
          "metadata": {},
          "execution_count": 4
        }
      ]
    },
    {
      "cell_type": "code",
      "source": [
        "S_2 = 0.0\n",
        "\n",
        "for num in data:\n",
        "  S_2 += (num - mean) * (num - mean)\n",
        "\n",
        "\n",
        "S_2 /= len(data)"
      ],
      "metadata": {
        "id": "eD6B-nrJJerG"
      },
      "execution_count": 5,
      "outputs": []
    },
    {
      "cell_type": "code",
      "source": [
        "S_2"
      ],
      "metadata": {
        "colab": {
          "base_uri": "https://localhost:8080/"
        },
        "id": "DGfTzz9rJ5Cx",
        "outputId": "3737f6d4-6401-4798-8d90-69c3215b4fa7"
      },
      "execution_count": 6,
      "outputs": [
        {
          "output_type": "execute_result",
          "data": {
            "text/plain": [
              "0.46735336959999996"
            ]
          },
          "metadata": {},
          "execution_count": 6
        }
      ]
    },
    {
      "cell_type": "markdown",
      "source": [
        "## a) для $α$, если $σ^2$ известно(0.7)"
      ],
      "metadata": {
        "id": "3NMIhWygKXC_"
      }
    },
    {
      "cell_type": "markdown",
      "source": [
        "$\\bar{x}$ ~ $N(α, \\frac{σ^2}{n})$\n",
        "\n",
        "$G(\\overrightarrow{x}, α)$ = $\\frac{\\bar{x} - α}{\\sqrt{\\frac{\\sigma^2}{n}}}$ ~ N(0, 1)\n",
        "\n",
        "$P(t_1 \\leq \\frac{\\bar{x} - α}{\\sqrt{\\frac{\\sigma^2}{n}}} \\leq t_2) = 1-𝛆$\n",
        "\n",
        "$Φ(t_1) = \\frac{𝛆}{2}$\n",
        "\n",
        "$Φ(t_2) = 1 - \\frac{𝛆}{2}$\n",
        "\n",
        "$P(\\bar{x} - \\frac{\\sigma t_1}{\\sqrt{n}} \\leq α \\leq \\bar{x} + \\frac{\\sigma t_1}{\\sqrt{n}}) = 1 - 𝛆$"
      ],
      "metadata": {
        "id": "tKoTOlV5X2uI"
      }
    },
    {
      "cell_type": "code",
      "source": [
        "def confidenceInterval(eps):\n",
        "  sigma = math.sqrt(0.7)\n",
        "  n = 50\n",
        "  t2 = norm.ppf(1 - eps / 2)\n",
        "\n",
        "  sigma_minus = mean - sigma*t2/math.sqrt(n)\n",
        "  sigma_plus = mean + sigma*t2/math.sqrt(n)\n",
        "  print(\"Доверительный интервал уровня \", 1 - eps)\n",
        "  print('(', sigma_minus , ',', sigma_plus, ')')"
      ],
      "metadata": {
        "id": "tX8DZojTSkVs"
      },
      "execution_count": 7,
      "outputs": []
    },
    {
      "cell_type": "code",
      "source": [
        "confidenceInterval(0.01)"
      ],
      "metadata": {
        "id": "3tTEeaZWJztW",
        "outputId": "6c5380c3-0177-49c2-a2c8-ba37f2f1e143",
        "colab": {
          "base_uri": "https://localhost:8080/"
        }
      },
      "execution_count": 8,
      "outputs": [
        {
          "output_type": "stream",
          "name": "stdout",
          "text": [
            "Доверительный интервал уровня  0.99\n",
            "( -2.413256233348824 , -1.8037037666511755 )\n"
          ]
        }
      ]
    },
    {
      "cell_type": "code",
      "source": [
        "confidenceInterval(0.05)"
      ],
      "metadata": {
        "colab": {
          "base_uri": "https://localhost:8080/"
        },
        "id": "b3IU3f1rWlJA",
        "outputId": "b1572fd3-f499-4321-b0af-0005fe7c7e99"
      },
      "execution_count": 9,
      "outputs": [
        {
          "output_type": "stream",
          "name": "stdout",
          "text": [
            "Доверительный интервал уровня  0.95\n",
            "( -2.340386066090815 , -1.876573933909184 )\n"
          ]
        }
      ]
    },
    {
      "cell_type": "code",
      "source": [
        "confidenceInterval(0.1)"
      ],
      "metadata": {
        "colab": {
          "base_uri": "https://localhost:8080/"
        },
        "id": "XreK9HhuW9cF",
        "outputId": "228e6b91-6eb3-4c17-8ff1-326c5d11dc09"
      },
      "execution_count": 10,
      "outputs": [
        {
          "output_type": "stream",
          "name": "stdout",
          "text": [
            "Доверительный интервал уровня  0.9\n",
            "( -2.3031017057713132 , -1.9138582942286861 )\n"
          ]
        }
      ]
    },
    {
      "cell_type": "markdown",
      "source": [
        "##б)для $α$, если $σ^2$ неизвестно"
      ],
      "metadata": {
        "id": "tbWjQFYRYS85"
      }
    },
    {
      "cell_type": "markdown",
      "source": [
        "$G(\\overrightarrow{x}, α)$ = $\\frac{(\\bar{x} - \\alpha)\\sqrt{n}}{S_0}$ ~ $T_{n-1}$\n",
        "\n",
        "$T_{n-1}(t_1) = \\frac{𝛆}{2}$\n",
        "\n",
        "$T_{n-1}(t_2) = 1 -\\frac{𝛆}{2}$\n",
        "\n",
        "$P(t_1 \\leq \\frac{(\\bar{x} - \\alpha)\\sqrt{n}}{S_0} \\leq t_2) = 1-𝛆$\n",
        "\n",
        "$P(\\bar{x} - \\frac{t2 S_0}{\\sqrt{n}} \\leq α \\leq \\bar{x} + \\frac{t2 S_0}{\\sqrt{n}})$"
      ],
      "metadata": {
        "id": "qazxuioVYdW4"
      }
    },
    {
      "cell_type": "code",
      "source": [
        "def confidenceInterval(eps):\n",
        "  n = 50\n",
        "  S0 = math.sqrt(n * S_2 / (n - 1))\n",
        "  t2 = t.ppf(1 - eps / 2, n - 1)  \n",
        "  sigma_minus = mean - t2*S0/math.sqrt(n)\n",
        "  sigma_plus = mean + t2*S0/math.sqrt(n)\n",
        "  print(\"Доверительный интервал уровня \", 1 - eps)\n",
        "  print('(', sigma_minus , ',', sigma_plus, ')')\n"
      ],
      "metadata": {
        "id": "jPtW_-ZSbR4q"
      },
      "execution_count": 11,
      "outputs": []
    },
    {
      "cell_type": "code",
      "source": [
        "confidenceInterval(0.01)"
      ],
      "metadata": {
        "id": "xCzwKhmgKl6_",
        "outputId": "d7c4e488-0c2d-4031-bb21-b87fc008a6bb",
        "colab": {
          "base_uri": "https://localhost:8080/"
        }
      },
      "execution_count": 12,
      "outputs": [
        {
          "output_type": "stream",
          "name": "stdout",
          "text": [
            "Доверительный интервал уровня  0.99\n",
            "( -2.370208888245332 , -1.8467511117546678 )\n"
          ]
        }
      ]
    },
    {
      "cell_type": "code",
      "source": [
        "confidenceInterval(0.05)"
      ],
      "metadata": {
        "colab": {
          "base_uri": "https://localhost:8080/"
        },
        "id": "mQA3Sm2LfFoC",
        "outputId": "719a945b-5444-4bda-ce2a-4bc82b3d1432"
      },
      "execution_count": 13,
      "outputs": [
        {
          "output_type": "stream",
          "name": "stdout",
          "text": [
            "Доверительный интервал уровня  0.95\n",
            "( -2.304738700582417 , -1.9122212994175822 )\n"
          ]
        }
      ]
    },
    {
      "cell_type": "code",
      "source": [
        "confidenceInterval(0.1)"
      ],
      "metadata": {
        "colab": {
          "base_uri": "https://localhost:8080/"
        },
        "id": "jbFdvuAMfakz",
        "outputId": "95289b73-1f3f-451a-ee0d-18fc6f2f00f6"
      },
      "execution_count": 14,
      "outputs": [
        {
          "output_type": "stream",
          "name": "stdout",
          "text": [
            "Доверительный интервал уровня  0.9\n",
            "( -2.2722149494859893 , -1.9447450505140103 )\n"
          ]
        }
      ]
    },
    {
      "cell_type": "markdown",
      "source": [
        "##в)для $\\sigma^2$, если $α$ известно(2)"
      ],
      "metadata": {
        "id": "z9GC7u4KhoiR"
      }
    },
    {
      "cell_type": "markdown",
      "source": [
        "$\\frac{x_i - α}{σ}$ ~ N(0, 1)\n",
        "\n",
        "$\\sum_{i = 1}^{n}(\\frac{x_i - α}{σ})^2$ ~ $χ_{n}^2$\n",
        "\n",
        "$χ_{n}^2(t_1) = \\frac{𝛆}{2}$\n",
        "\n",
        "$χ_{n}^2(t_2) = 1 -\\frac{𝛆}{2}$\n",
        "\n",
        "$P(t_1 \\leq \\sum_{i = 1}^{n}(\\frac{x_i - α}{σ})^2 \\leq t_2) = 1- 𝛆$\n",
        "\n",
        "$P(\\frac{\\sum_{i = 1}^{n}(x_i - α)^2}{t_2} \\leq \\sigma^2 \\leq \\frac{\\sum_{i = 1}^{n}(x_i - α)^2}{t_1}) = 1 - 𝛆$"
      ],
      "metadata": {
        "id": "HMWMQ9Wxh2v_"
      }
    },
    {
      "cell_type": "code",
      "source": [
        "def confidenceInterval(eps):\n",
        "  n = 50\n",
        "  t1 = chi2.ppf(eps / 2, n)\n",
        "  t2 = chi2.ppf(1 - eps / 2, n)\n",
        "  a = -2\n",
        "\n",
        "  sum = 0.0\n",
        "  for num in data:\n",
        "    sum += math.pow(num - a, 2)\n",
        "\n",
        "  sigma_minus = sum / t2\n",
        "  sigma_plus = sum / t1\n",
        "  print(\"Доверительный интервал уровня \", 1 - eps)\n",
        "  print('(', sigma_minus , ',', sigma_plus, ')')"
      ],
      "metadata": {
        "id": "1nlNmimkK4EV"
      },
      "execution_count": 15,
      "outputs": []
    },
    {
      "cell_type": "code",
      "source": [
        "confidenceInterval(0.01)"
      ],
      "metadata": {
        "colab": {
          "base_uri": "https://localhost:8080/"
        },
        "id": "eGXH0fgPkhRV",
        "outputId": "95c13406-c58d-465c-f03e-d6f500788bf0"
      },
      "execution_count": 16,
      "outputs": [
        {
          "output_type": "stream",
          "name": "stdout",
          "text": [
            "Доверительный интервал уровня  0.99\n",
            "( 0.3013721284375091 , 0.8558564872403117 )\n"
          ]
        }
      ]
    },
    {
      "cell_type": "code",
      "source": [
        "confidenceInterval(0.05)"
      ],
      "metadata": {
        "colab": {
          "base_uri": "https://localhost:8080/"
        },
        "id": "Qo-WHJ4Cwi2H",
        "outputId": "574d4ccc-2375-4c94-b1a2-50272c3cee5a"
      },
      "execution_count": 17,
      "outputs": [
        {
          "output_type": "stream",
          "name": "stdout",
          "text": [
            "Доверительный интервал уровня  0.95\n",
            "( 0.3354242303189708 , 0.740358955856906 )\n"
          ]
        }
      ]
    },
    {
      "cell_type": "code",
      "source": [
        "confidenceInterval(0.1)"
      ],
      "metadata": {
        "colab": {
          "base_uri": "https://localhost:8080/"
        },
        "id": "frlvy8w9wqmL",
        "outputId": "061f585f-2776-4a85-f9b0-6f6eb933a7b6"
      },
      "execution_count": 18,
      "outputs": [
        {
          "output_type": "stream",
          "name": "stdout",
          "text": [
            "Доверительный интервал уровня  0.9\n",
            "( 0.3548793815506878 , 0.6891005225166102 )\n"
          ]
        }
      ]
    },
    {
      "cell_type": "markdown",
      "source": [
        "##г)для $\\sigma^2$, если $α$ неизвестно"
      ],
      "metadata": {
        "id": "1i6XvhxotzLs"
      }
    },
    {
      "cell_type": "markdown",
      "source": [
        "$G(\\overrightarrow{x}, α)$ = $\\frac{n S^2}{\\sigma^2}$ ~ $χ^2_{n - 1}$\n",
        "\n",
        "$P(t_1 \\leq \\frac{n S^2}{\\sigma^2} \\leq t_2) = 1 - 𝛆$\n",
        "\n",
        "$χ_{n - 1}^2(t_1) = \\frac{𝛆}{2}$\n",
        "\n",
        "$χ_{n - 1}^2(t_2) = 1 -\\frac{𝛆}{2}$\n",
        "\n",
        "$P(\\frac{n S^2}{t_2} \\leq \\sigma^2 \\leq \\frac{n S^2}{t_1}) = 1 - 𝛆$"
      ],
      "metadata": {
        "id": "7013Cl4ruDQw"
      }
    },
    {
      "cell_type": "code",
      "source": [
        "def confidenceInterval(eps):\n",
        "  n = 50\n",
        "  t1 = chi2.ppf(eps / 2, n - 1)\n",
        "  t2 = chi2.ppf(1 - eps / 2, n - 1)\n",
        "\n",
        "  sigma_minus = n * S_2 / t2\n",
        "  sigma_plus = n * S_2 / t1\n",
        "  print(\"Доверительный интервал уровня \", 1 - eps)\n",
        "  print('(', sigma_minus , ',', sigma_plus, ')')"
      ],
      "metadata": {
        "id": "QoThOgOvLtpA"
      },
      "execution_count": 19,
      "outputs": []
    },
    {
      "cell_type": "code",
      "source": [
        "confidenceInterval(0.01)"
      ],
      "metadata": {
        "colab": {
          "base_uri": "https://localhost:8080/"
        },
        "id": "Ru84t8exvCkR",
        "outputId": "0b1b97c8-5bca-48e5-8577-3fcc84ff0c4a"
      },
      "execution_count": 20,
      "outputs": [
        {
          "output_type": "stream",
          "name": "stdout",
          "text": [
            "Доверительный интервал уровня  0.99\n",
            "( 0.2987019937759676 , 0.8575496031241164 )\n"
          ]
        }
      ]
    },
    {
      "cell_type": "code",
      "source": [
        "confidenceInterval(0.05)"
      ],
      "metadata": {
        "colab": {
          "base_uri": "https://localhost:8080/"
        },
        "id": "iKg_WRImvjsa",
        "outputId": "85533b95-fc6c-478b-fe1c-4cdfd3e2736b"
      },
      "execution_count": 21,
      "outputs": [
        {
          "output_type": "stream",
          "name": "stdout",
          "text": [
            "Доверительный интервал уровня  0.95\n",
            "( 0.3327665241510507 , 0.7405397034609955 )\n"
          ]
        }
      ]
    },
    {
      "cell_type": "code",
      "source": [
        "confidenceInterval(0.1)"
      ],
      "metadata": {
        "colab": {
          "base_uri": "https://localhost:8080/"
        },
        "id": "e1q5BF6sv_Tj",
        "outputId": "e9e9d9ae-f167-4e0a-ba52-0dddd169ebac"
      },
      "execution_count": 22,
      "outputs": [
        {
          "output_type": "stream",
          "name": "stdout",
          "text": [
            "Доверительный интервал уровня  0.9\n",
            "( 0.3522481823268513 , 0.6886960802156745 )\n"
          ]
        }
      ]
    },
    {
      "cell_type": "markdown",
      "source": [
        "#Второе задание\n"
      ],
      "metadata": {
        "id": "5HLJU7-9yEpb"
      }
    },
    {
      "cell_type": "code",
      "source": [
        "data = [0.063, 0.058, 0.282, 0.218, 0.984, 0.514, 0.284, 0.126, 0.494, 0.416,\n",
        "        0.041, 0.521, 0.423, 0.265, 0.537, 0.467, 0.512, 0.672, 0.137, 0.083,\n",
        "        0.600, 0.749, 0.732, 0.221, 0.661, 0.725, 0.004, 0.720, 0.795, 0.334]"
      ],
      "metadata": {
        "id": "m6orRL97yQ01"
      },
      "execution_count": 23,
      "outputs": []
    },
    {
      "cell_type": "code",
      "source": [
        "import numpy as np\n",
        "import matplotlib.pyplot as plt\n",
        "\n",
        "def Indecator(num, t):\n",
        "  return num <= t\n",
        "\n",
        "def EmpericFunc(t):\n",
        "  sum = 0\n",
        "  for num in data:\n",
        "    sum += Indecator(num, t) / len(data)\n",
        "\n",
        "  return sum   "
      ],
      "metadata": {
        "id": "OQMewJK9Txv5"
      },
      "execution_count": 24,
      "outputs": []
    },
    {
      "cell_type": "markdown",
      "source": [
        "##Эмперическая функция"
      ],
      "metadata": {
        "id": "IfrfVu6UUXfw"
      }
    },
    {
      "cell_type": "code",
      "source": [
        "y = lambda x: EmpericFunc(x)\n",
        "fig = plt.subplots()\n",
        "\n",
        "x = np.linspace(-0.1, 1.1,10000)\n",
        "\n",
        "plt.plot(x, y(x))\n",
        "plt.show()"
      ],
      "metadata": {
        "colab": {
          "base_uri": "https://localhost:8080/",
          "height": 265
        },
        "id": "CICwsBh5T49e",
        "outputId": "2df21562-4174-4886-b083-1bc74ecd5a91"
      },
      "execution_count": 25,
      "outputs": [
        {
          "output_type": "display_data",
          "data": {
            "text/plain": [
              "<Figure size 432x288 with 1 Axes>"
            ],
            "image/png": "[encoded data removed]"
          },
          "metadata": {
            "needs_background": "light"
          }
        }
      ]
    },
    {
      "cell_type": "markdown",
      "source": [
        "##Гистограмма"
      ],
      "metadata": {
        "id": "LG7No7YEUaY-"
      }
    },
    {
      "cell_type": "code",
      "source": [
        " \n",
        "plt.hist(data, range = (0, 1), color = 'blue', edgecolor = 'black', bins = int(math.log2(30) + 1), density = 1)"
      ],
      "metadata": {
        "colab": {
          "base_uri": "https://localhost:8080/",
          "height": 317
        },
        "id": "7Sl57CUxzgWw",
        "outputId": "84de74f6-7581-4a03-f9c5-363b1056a449"
      },
      "execution_count": 26,
      "outputs": [
        {
          "output_type": "execute_result",
          "data": {
            "text/plain": [
              "(array([1.16666667, 1.        , 1.5       , 1.16666667, 0.16666667]),\n",
              " array([0. , 0.2, 0.4, 0.6, 0.8, 1. ]),\n",
              " <a list of 5 Patch objects>)"
            ]
          },
          "metadata": {},
          "execution_count": 26
        },
        {
          "output_type": "display_data",
          "data": {
            "text/plain": [
              "<Figure size 432x288 with 1 Axes>"
            ],
            "image/png": "[encoded data removed]"
          },
          "metadata": {
            "needs_background": "light"
          }
        }
      ]
    },
    {
      "cell_type": "markdown",
      "source": [
        "##Критерий Колмогорова"
      ],
      "metadata": {
        "id": "QuFd_393UfEE"
      }
    },
    {
      "cell_type": "markdown",
      "source": [
        "$D_n = sup|F_n^*(x) - F(x)|$"
      ],
      "metadata": {
        "id": "mO-Px6riVYsZ"
      }
    },
    {
      "cell_type": "code",
      "source": [
        "z = lambda x: x\n",
        "\n",
        "plt.plot(x, y(x))\n",
        "plt.plot(x, z(x))\n",
        "plt.show()"
      ],
      "metadata": {
        "colab": {
          "base_uri": "https://localhost:8080/",
          "height": 265
        },
        "id": "-azkYgA9U0ef",
        "outputId": "7ee8b93a-6529-4b9a-a0d6-d371bb009871"
      },
      "execution_count": 27,
      "outputs": [
        {
          "output_type": "display_data",
          "data": {
            "text/plain": [
              "<Figure size 432x288 with 1 Axes>"
            ],
            "image/png": "[encoded data removed]"
          },
          "metadata": {
            "needs_background": "light"
          }
        }
      ]
    },
    {
      "cell_type": "code",
      "source": [
        "point = 0\n",
        "d = 0\n",
        "\n",
        "for x in data:\n",
        "  if (abs(y(x) - z(x)) > d):\n",
        "    d = abs(y(x) - z(x))\n",
        "    point = x  \n",
        "\n",
        "print(\"D_n = \", d)\n",
        "print(\"достигается в точке \", point)"
      ],
      "metadata": {
        "colab": {
          "base_uri": "https://localhost:8080/"
        },
        "id": "k74TpCEjVxyz",
        "outputId": "c564fad1-5c1b-4c7d-a5a9-6821eaa4af1b"
      },
      "execution_count": 28,
      "outputs": [
        {
          "output_type": "stream",
          "name": "stdout",
          "text": [
            "D_n =  0.18433333333333324\n",
            "достигается в точке  0.749\n"
          ]
        }
      ]
    },
    {
      "cell_type": "markdown",
      "source": [
        "$P(\\sqrt{n} D_n < q) ≃ 𝒦(q) = 1 - 𝛆$"
      ],
      "metadata": {
        "id": "2Y6tQQPXYqju"
      }
    },
    {
      "cell_type": "code",
      "source": [
        "eps = 0.02\n",
        "q = kstwobign.ppf(1 - eps) \n",
        "n = 30\n",
        "\n",
        "if (math.sqrt(n) * d < q):\n",
        "  print(\"Гипотеза верна\")\n",
        "else:\n",
        "  print(\"Гипотеза не верна\")    "
      ],
      "metadata": {
        "colab": {
          "base_uri": "https://localhost:8080/"
        },
        "id": "hWfJcPRJYMwB",
        "outputId": "7f151802-575c-44af-e07d-9a0b5dbdfc89"
      },
      "execution_count": 29,
      "outputs": [
        {
          "output_type": "stream",
          "name": "stdout",
          "text": [
            "Гипотеза верна\n"
          ]
        }
      ]
    },
    {
      "cell_type": "markdown",
      "source": [
        "##Критерий хи-квадрат\n"
      ],
      "metadata": {
        "id": "k-F1gMceeNwO"
      }
    },
    {
      "cell_type": "markdown",
      "source": [
        "$𝛹_n = \\sum_{i = 1}^{k} \\frac{(ν_i - np_i)^2}{np_i}$\n",
        "\n",
        "$P(𝛹_n < y) → χ^2_{k-1}(y),  n → ∞$"
      ],
      "metadata": {
        "id": "rlzH6kYB1ZgK"
      }
    },
    {
      "cell_type": "markdown",
      "source": [
        "![UwhjNyfE4Ea_Adq-qONBvBDQjQ8FtmyLlM3C5LfGEqLH51oGC7CPTnLUrWgXVAmdwfwNG4b6QbD_OuOM1v7DzUSv.jpg](data:image/jpeg;base64,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)"
      ],
      "metadata": {
        "id": "BnpEpmqP4bdO"
      }
    },
    {
      "cell_type": "markdown",
      "source": [
        "Как видно из полученных данных $𝛹_n = 5.667 < 11.667 = q$\n",
        "\n",
        "Значит гипотезу принимаем"
      ],
      "metadata": {
        "id": "6M5xAMNN51Jn"
      }
    },
    {
      "cell_type": "markdown",
      "source": [
        "#Третье задание\n"
      ],
      "metadata": {
        "id": "3A4D9S2_7kut"
      }
    },
    {
      "cell_type": "code",
      "source": [
        "data1 = [-1.439, -1.609, -3.889, -1.735, -3.096, 0.023, -1.414, -2.312, -2.648, -2.038,\n",
        "        -2.631, -2.233, -1.908, -2.356, -2.107, -2.949, -3.048, -2.019, -1.652, -2.285]\n",
        "\n",
        "data2 = [-2.446, -1.752, -1.990, -1.689, -1.552, -1.916, -2.036, -1.888, -0.726, -2.874,\n",
        "        -1.426, -1.432, -1.419, -2.090, -2.698, -2.494, -2.544, -2.825, -2.951, -1.814,\n",
        "        -3.014, -2.542, -2.912, -2.291, -2.103, -1.966, -0.769, -2.474, -1.987, -1.459]"
      ],
      "metadata": {
        "id": "vUMUN_Zu8XFh"
      },
      "execution_count": 30,
      "outputs": []
    },
    {
      "cell_type": "markdown",
      "source": [
        "##a)о совпадении дисперсий\n"
      ],
      "metadata": {
        "id": "nUC9fzmy8RN0"
      }
    },
    {
      "cell_type": "code",
      "source": [
        "mean1 = 0\n",
        "mean2 = 0\n",
        "S1_2 = 0\n",
        "S2_2 = 0\n",
        "\n",
        "for num in data1:\n",
        "  mean1 += num / 20\n",
        "\n",
        "for num in data2:\n",
        "  mean2 += num / 30\n",
        "\n",
        "for num in data1:\n",
        "  S1_2 += (num - mean1) * (num - mean1) / 20\n",
        "\n",
        "for num in data2:\n",
        "  S2_2 += (num - mean2) * (num - mean2) / 30\n"
      ],
      "metadata": {
        "id": "TsOG6Fix8tRq"
      },
      "execution_count": 31,
      "outputs": []
    },
    {
      "cell_type": "markdown",
      "source": [
        "$\\frac{nS^2_1}{σ^2_1}$ ~ $ χ^2_{n-1}$\n",
        "\n",
        "$\\frac{mS^2_2}{σ^2_2}$ ~ $ χ^2_{m-1}$\n",
        "\n",
        "Эти случайные величины независимы, значит из них можно построить случайную величину, имеющую распределение Фишера\n",
        "\n",
        "$\\frac {1}{n-1} \\frac{nS^2_1}{σ^2_1} : \\frac {1}{m-1} \\frac{mS^2_2}{σ^2_2} = \\frac{n(m-1)\\sigma^2_2 S^2_1}{m(n-1)\\sigma^2_1 S^2_2}$ ~ $F_{n-1, m-1}$\n",
        "\n",
        "$\\eta = \\frac{n(m-1)\\ S^2_1}{m(n-1)\\ S^2_2}$ ~ $F_{n-1, m-1}$\n",
        "\n",
        "$P(q_1 < η < q_2) = 1 - 𝛆$\n",
        "\n",
        "$F_{n-1, m-1}(q_1) = \\frac{𝛆}{2}$\n",
        "\n",
        "$F_{n-1, m-1}(q_2) = 1 - \\frac{𝛆}{2}$"
      ],
      "metadata": {
        "id": "YQihQ_aE96A1"
      }
    },
    {
      "cell_type": "code",
      "source": [
        "n = 20\n",
        "m = 30\n",
        "epsilon = 0.02\n",
        "q1 = f.ppf(eps/2, n - 1, m - 1)\n",
        "q2 = f.ppf(1 - eps/2, n - 1, m - 1)\n",
        "eta = (n * (m - 1) * S1_2) / (m * (n - 1) * S2_2)\n",
        "\n",
        "if (q1 < eta < q2):\n",
        "  print(\"Гипотеза верна\")\n",
        "else:\n",
        "  print(\"Гипотеза не верна\")   "
      ],
      "metadata": {
        "colab": {
          "base_uri": "https://localhost:8080/"
        },
        "id": "dNyhY8bpCG2c",
        "outputId": "66616dcc-0249-46a8-9be7-9c7ca5e33b20"
      },
      "execution_count": 32,
      "outputs": [
        {
          "output_type": "stream",
          "name": "stdout",
          "text": [
            "Гипотеза верна\n"
          ]
        }
      ]
    },
    {
      "cell_type": "markdown",
      "source": [
        "##б)о совпадении средних, если известно, что дисперсии совпадают"
      ],
      "metadata": {
        "id": "spda2_jGI0EO"
      }
    },
    {
      "cell_type": "markdown",
      "source": [
        "$\\bar{X}$ ~ $N(α_1, \\frac{\\sigma^2}{n})$ \n",
        "\n",
        "$\\bar{Y}$ ~ $N(α_2, \\frac{\\sigma^2}{m})$\n",
        "\n",
        "$\\bar{X} - \\bar{Y}$ ~ $N(α_1 - α_2, \\sigma^2(\\frac{1}{n} + \\frac{1}{m}))$\n",
        "\n",
        "$\\frac{\\bar{X} - \\bar{Y} - (α1 - α2)}{\\sqrt{\\sigma^2(\\frac{1}{n} + \\frac{1}{m})}}$ ~ $N(0, 1)$\n",
        "\n",
        "$\\frac{nS^2_1}{σ^2}$ ~ $ χ^2_{n-1}$\n",
        "\n",
        "$\\frac{mS^2_2}{σ^2}$ ~ $ χ^2_{m-1}$\n",
        "\n",
        "$\\frac{nS^2_1}{σ^2} + \\frac{mS^2_2}{σ^2}$ ~ $χ^2_{n + m - 2}$\n",
        "\n",
        "$\\frac{\\bar{X} - \\bar{Y} - (α1 - α2)}{\\sqrt{\\sigma^2(\\frac{1}{n} + \\frac{1}{m})}}$ : $\\sqrt{\\frac{1}{n + m - 2} \\frac{nS^2_1 + mS^2_2}{σ^2}}$ ~ $T_{n + m - 2}$\n",
        "\n",
        "$ψ$ = $\\frac{\\bar{X} - \\bar{Y}}{\\sqrt{\\frac{1}{n} + \\frac{1}{m}} \\sqrt{\\frac{nS_1^2 + mS_2^2}{n + m - 2}}}$ ~ $T_{n + m - 2}$\n",
        "\n",
        "$P(-q < ψ < q) = T_{n + m - 2}(q) - T_{n + m - 2}(-q) = 1 - \\frac{𝛆}{2} - \\frac{𝛆}{2} = 1 - 𝛆$"
      ],
      "metadata": {
        "id": "pt8bQQdmJH6X"
      }
    },
    {
      "cell_type": "code",
      "source": [
        "eps = 0.02\n",
        "n = 20\n",
        "m = 30\n",
        "q = t.ppf(1 - eps / 2, n + m + 2)  \n",
        "psi = (mean1 - mean2) / ((math.sqrt(1/n + 1/m)) * (math.sqrt((n * S1_2 + m * S2_2) / (n + m - 2))))\n",
        "\n",
        "if (-q < psi < q):\n",
        "  print(\"Гипотеза верна\")\n",
        "else:\n",
        "  print(\"Гипотеза не верна\")  "
      ],
      "metadata": {
        "colab": {
          "base_uri": "https://localhost:8080/"
        },
        "id": "OvfZvpbKHJm9",
        "outputId": "540e4f0e-d3f6-442d-b65e-ec0a1bdceb8e"
      },
      "execution_count": 33,
      "outputs": [
        {
          "output_type": "stream",
          "name": "stdout",
          "text": [
            "Гипотеза верна\n"
          ]
        }
      ]
    }
  ]
}