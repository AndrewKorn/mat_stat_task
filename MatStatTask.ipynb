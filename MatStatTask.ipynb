{
  "nbformat": 4,
  "nbformat_minor": 0,
  "metadata": {
    "colab": {
      "name": "MatStatTask.ipynb",
      "provenance": [],
      "collapsed_sections": [],
      "toc_visible": true,
      "include_colab_link": true
    },
    "kernelspec": {
      "name": "python3",
      "display_name": "Python 3"
    },
    "language_info": {
      "name": "python"
    }
  },
  "cells": [
    {
      "cell_type": "markdown",
      "metadata": {
        "id": "view-in-github",
        "colab_type": "text"
      },
      "source": [
        "<a href=\"https://colab.research.google.com/github/AndrewKorn/mat_stat_task/blob/main/MatStatTask.ipynb\" target=\"_parent\"><img src=\"https://colab.research.google.com/assets/colab-badge.svg\" alt=\"Open In Colab\"/></a>"
      ]
    },
    {
      "cell_type": "markdown",
      "source": [
        "#Первое задание"
      ],
      "metadata": {
        "id": "x7n2yw_oJFU1"
      }
    },
    {
      "cell_type": "code",
      "source": [
        "import math"
      ],
      "metadata": {
        "id": "VCUfe4oWiCfa"
      },
      "execution_count": 47,
      "outputs": []
    },
    {
      "cell_type": "code",
      "execution_count": 48,
      "metadata": {
        "id": "peCuz6scEtbN"
      },
      "outputs": [],
      "source": [
        "data = [-1.439, -1.609, -3.889, -1.735, -3.096, 0.023, -1.414, -2.312, -2.648, -2.038,\n",
        "        -2.631, -2.233, -1.908, -2.356, -2.107, -2.949, -3.048, -2.019, -1.652, -2.285,\n",
        "        -2.446, -1.752, -1.990, -1.689, -1.552, -1.916, -2.036, -1.888, -0.726, -2.874,\n",
        "        -1.426, -1.432, -1.419, -2.090, -2.698, -2.494, -2.544, -2.825, -2.951, -1.814,\n",
        "        -3.014, -2.542, -2.912, -2.291, -2.103, -1.966, -0.769, -2.474, -1.987, -1.459]"
      ]
    },
    {
      "cell_type": "code",
      "source": [
        "sample_mean = 0.0\n",
        "\n",
        "for num in data:\n",
        "  sample_mean += num\n",
        "\n",
        "sample_mean /= len(data)"
      ],
      "metadata": {
        "id": "4e0KeyifHnJ6"
      },
      "execution_count": 49,
      "outputs": []
    },
    {
      "cell_type": "code",
      "source": [
        "sample_mean"
      ],
      "metadata": {
        "colab": {
          "base_uri": "https://localhost:8080/"
        },
        "id": "0USHVrQ3H2f-",
        "outputId": "107e5d0b-8e3b-450b-80c4-182b269720a6"
      },
      "execution_count": 50,
      "outputs": [
        {
          "output_type": "execute_result",
          "data": {
            "text/plain": [
              "-2.1084799999999997"
            ]
          },
          "metadata": {},
          "execution_count": 50
        }
      ]
    },
    {
      "cell_type": "code",
      "source": [
        "S_2 = 0.0\n",
        "\n",
        "for num in data:\n",
        "  S_2 += (num - sample_mean) * (num - sample_mean)\n",
        "\n",
        "\n",
        "S_2 /= len(data)"
      ],
      "metadata": {
        "id": "eD6B-nrJJerG"
      },
      "execution_count": 51,
      "outputs": []
    },
    {
      "cell_type": "code",
      "source": [
        "S_2"
      ],
      "metadata": {
        "colab": {
          "base_uri": "https://localhost:8080/"
        },
        "id": "DGfTzz9rJ5Cx",
        "outputId": "d785a774-ea4d-43c2-b311-00a96edf86e2"
      },
      "execution_count": 52,
      "outputs": [
        {
          "output_type": "execute_result",
          "data": {
            "text/plain": [
              "0.46735336959999996"
            ]
          },
          "metadata": {},
          "execution_count": 52
        }
      ]
    },
    {
      "cell_type": "markdown",
      "source": [
        "## a) для $α$, если $σ^2$ известно(0.7)"
      ],
      "metadata": {
        "id": "3NMIhWygKXC_"
      }
    },
    {
      "cell_type": "markdown",
      "source": [
        "$\\bar{x}$ ~ $N(α, \\frac{σ^2}{n})$\n",
        "\n",
        "$G(\\overrightarrow{x}, α)$ = $\\frac{\\bar{x} - α}{\\sqrt{\\frac{\\sigma^2}{n}}}$ ~ N(0, 1)\n",
        "\n",
        "$P(t_1 \\leq \\frac{\\bar{x} - α}{\\sqrt{\\frac{\\sigma^2}{n}}} \\leq t_2) = 1-𝛆$\n",
        "\n",
        "$Φ(t_1) = \\frac{𝛆}{2}$\n",
        "\n",
        "$Φ(t_2) = 1 - \\frac{𝛆}{2}$\n",
        "\n",
        "$P(\\bar{x} - \\frac{\\sigma t_1}{\\sqrt{n}} \\leq α \\leq \\bar{x} + \\frac{\\sigma t_1}{\\sqrt{n}}) = 1 - 𝛆$"
      ],
      "metadata": {
        "id": "tKoTOlV5X2uI"
      }
    },
    {
      "cell_type": "code",
      "source": [
        "sigma = math.sqrt(0.7)\n",
        "eps = 0.01\n",
        "n = 50\n",
        "t2 = 2.575\n",
        "\n",
        "sigma_minus = sample_mean - sigma*t2/math.sqrt(n)\n",
        "sigma_plus = sample_mean + sigma*t2/math.sqrt(n)\n",
        "print(\"Доверительный интервал уровня 0.99\")\n",
        "print('(', sigma_minus , ',', sigma_plus, ')')\n"
      ],
      "metadata": {
        "colab": {
          "base_uri": "https://localhost:8080/"
        },
        "id": "tX8DZojTSkVs",
        "outputId": "7e5a6635-3683-4f29-cb4b-2dcb2c54b3ce"
      },
      "execution_count": 53,
      "outputs": [
        {
          "output_type": "stream",
          "name": "stdout",
          "text": [
            "Доверительный интервал уровня 0.99\n",
            "( -2.41315810882963 , -1.8038018911703695 )\n"
          ]
        }
      ]
    },
    {
      "cell_type": "code",
      "source": [
        "sigma = math.sqrt(0.7)\n",
        "eps = 0.05\n",
        "n = 50\n",
        "t2 = 1.959\n",
        "\n",
        "sigma_minus = sample_mean - sigma*t2/math.sqrt(n)\n",
        "sigma_plus = sample_mean + sigma*t2/math.sqrt(n)\n",
        "print(\"Доверительный интервал уровня 0.95\")\n",
        "print('(', sigma_minus , ',', sigma_plus, ')')"
      ],
      "metadata": {
        "colab": {
          "base_uri": "https://localhost:8080/"
        },
        "id": "b3IU3f1rWlJA",
        "outputId": "be07cac6-8531-41c2-da30-dadd5f1c953f"
      },
      "execution_count": 54,
      "outputs": [
        {
          "output_type": "stream",
          "name": "stdout",
          "text": [
            "Доверительный интервал уровня 0.95\n",
            "( -2.3402720059018427 , -1.8766879940981567 )\n"
          ]
        }
      ]
    },
    {
      "cell_type": "code",
      "source": [
        "sigma = math.sqrt(0.7)\n",
        "eps = 0.1\n",
        "n = 50\n",
        "t2 = 1.644\n",
        "\n",
        "sigma_minus = sample_mean - sigma*t2/math.sqrt(n)\n",
        "sigma_plus = sample_mean + sigma*t2/math.sqrt(n)\n",
        "print(\"Доверительный интервал уровня 0.9\")\n",
        "print('(', sigma_minus , ',', sigma_plus, ')')"
      ],
      "metadata": {
        "colab": {
          "base_uri": "https://localhost:8080/"
        },
        "id": "XreK9HhuW9cF",
        "outputId": "d747189c-5a9f-4904-80ba-b9644c32970d"
      },
      "execution_count": 55,
      "outputs": [
        {
          "output_type": "stream",
          "name": "stdout",
          "text": [
            "Доверительный интервал уровня 0.9\n",
            "( -2.303000703268315 , -1.9139592967316843 )\n"
          ]
        }
      ]
    },
    {
      "cell_type": "markdown",
      "source": [
        "##б)для $α$, если $σ^2$ неизвестно"
      ],
      "metadata": {
        "id": "tbWjQFYRYS85"
      }
    },
    {
      "cell_type": "markdown",
      "source": [
        "$G(\\overrightarrow{x}, α)$ = $\\frac{(\\bar{x} - \\alpha)\\sqrt{n}}{S_0}$ ~ $T_{n-1}$\n",
        "\n",
        "$T_{n-1}(t_1) = \\frac{𝛆}{2}$\n",
        "\n",
        "$T_{n-1}(t_2) = 1 -\\frac{𝛆}{2}$\n",
        "\n",
        "$P(t_1 \\leq \\frac{(\\bar{x} - \\alpha)\\sqrt{n}}{S_0} \\leq t_2) = 1-𝛆$\n",
        "\n",
        "$P(\\bar{x} - \\frac{t2 S_0}{\\sqrt{n}} \\leq α \\leq \\bar{x} + \\frac{t2 S_0}{\\sqrt{n}})$"
      ],
      "metadata": {
        "id": "qazxuioVYdW4"
      }
    },
    {
      "cell_type": "code",
      "source": [
        "S0 = math.sqrt(n * S_2 / (n - 1))\n",
        "eps = 0.01\n",
        "n = 50\n",
        "t2 = 2.679\n",
        "\n",
        "sigma_minus = sample_mean - t2*S0/math.sqrt(n)\n",
        "sigma_plus = sample_mean + t2*S0/math.sqrt(n)\n",
        "print(\"Доверительный интервал уровня 0.99\")\n",
        "print('(', sigma_minus , ',', sigma_plus, ')')"
      ],
      "metadata": {
        "colab": {
          "base_uri": "https://localhost:8080/"
        },
        "id": "jPtW_-ZSbR4q",
        "outputId": "4f17be1d-3d13-4bfb-b7f1-beec03ac7f7e"
      },
      "execution_count": 56,
      "outputs": [
        {
          "output_type": "stream",
          "name": "stdout",
          "text": [
            "Доверительный интервал уровня 0.99\n",
            "( -2.3701159168030537 , -1.8468440831969457 )\n"
          ]
        }
      ]
    },
    {
      "cell_type": "code",
      "source": [
        "S0 = math.sqrt(n * S_2 / (n - 1))\n",
        "eps = 0.05\n",
        "n = 50\n",
        "t2 = 2.009\n",
        "\n",
        "sigma_minus = sample_mean - t2*S0/math.sqrt(n)\n",
        "sigma_plus = sample_mean + t2*S0/math.sqrt(n)\n",
        "print(\"Доверительный интервал уровня 0.95\")\n",
        "print('(', sigma_minus , ',', sigma_plus, ')')"
      ],
      "metadata": {
        "colab": {
          "base_uri": "https://localhost:8080/"
        },
        "id": "mQA3Sm2LfFoC",
        "outputId": "ce559b37-77f1-4f5e-cc1f-cb970fd82ab0"
      },
      "execution_count": 57,
      "outputs": [
        {
          "output_type": "stream",
          "name": "stdout",
          "text": [
            "Доверительный интервал уровня 0.95\n",
            "( -2.3046825221565266 , -1.9122774778434728 )\n"
          ]
        }
      ]
    },
    {
      "cell_type": "code",
      "source": [
        "S0 = math.sqrt(n * S_2 / (n - 1))\n",
        "eps = 0.1\n",
        "n = 50\n",
        "t2 = 1.676\n",
        "\n",
        "sigma_minus = sample_mean - t2*S0/math.sqrt(n)\n",
        "sigma_plus = sample_mean + t2*S0/math.sqrt(n)\n",
        "print(\"Доверительный интервал уровня 0.9\")\n",
        "print('(', sigma_minus , ',', sigma_plus, ')')"
      ],
      "metadata": {
        "colab": {
          "base_uri": "https://localhost:8080/"
        },
        "id": "jbFdvuAMfakz",
        "outputId": "834c6920-e7e6-490f-d7c1-448a289fac6a"
      },
      "execution_count": 58,
      "outputs": [
        {
          "output_type": "stream",
          "name": "stdout",
          "text": [
            "Доверительный интервал уровня 0.9\n",
            "( -2.272161148399372 , -1.9447988516006274 )\n"
          ]
        }
      ]
    },
    {
      "cell_type": "markdown",
      "source": [
        "##в)для $\\sigma^2$, если $α$ известно(2)"
      ],
      "metadata": {
        "id": "z9GC7u4KhoiR"
      }
    },
    {
      "cell_type": "markdown",
      "source": [
        "$\\frac{x_i - α}{σ}$ ~ N(0, 1)\n",
        "\n",
        "$\\sum_{i = 1}^{n}(\\frac{x_i - α}{σ})^2$ ~ $χ_{n}^2$\n",
        "\n",
        "$χ_{n}^2(t_1) = \\frac{𝛆}{2}$\n",
        "\n",
        "$χ_{n}^2(t_2) = 1 -\\frac{𝛆}{2}$\n",
        "\n",
        "$P(t_1 \\leq \\sum_{i = 1}^{n}(\\frac{x_i - α}{σ})^2 \\leq t_2) = 1- 𝛆$\n",
        "\n",
        "$P(\\frac{\\sum_{i = 1}^{n}(x_i - α)^2}{t_2} \\leq \\sigma^2 \\leq \\frac{\\sum_{i = 1}^{n}(x_i - α)^2}{t_1}) = 1 - 𝛆$"
      ],
      "metadata": {
        "id": "HMWMQ9Wxh2v_"
      }
    },
    {
      "cell_type": "code",
      "source": [
        "n = 50\n",
        "eps = 0.01\n",
        "t1 = 27.991\n",
        "t2 = 79.490\n",
        "a = -2\n",
        "\n",
        "sum = 0.0\n",
        "for num in data:\n",
        "  sum += math.pow(num - a, 2)\n",
        "\n",
        "sigma_minus = sum / t2\n",
        "sigma_plus = sum / t1\n",
        "print(\"Доверительный интервал уровня 0.99\")\n",
        "print('(', sigma_minus , ',', sigma_plus, ')')"
      ],
      "metadata": {
        "colab": {
          "base_uri": "https://localhost:8080/"
        },
        "id": "eGXH0fgPkhRV",
        "outputId": "cf739202-730e-4951-c5cd-80ec17d71fa6"
      },
      "execution_count": 59,
      "outputs": [
        {
          "output_type": "stream",
          "name": "stdout",
          "text": [
            "Доверительный интервал уровня 0.99\n",
            "( 0.30137204679833945 , 0.855848808545604 )\n"
          ]
        }
      ]
    },
    {
      "cell_type": "code",
      "source": [
        "n = 50\n",
        "eps = 0.05\n",
        "t1 = 32.357\n",
        "t2 = 71.420\n",
        "a = -2\n",
        "\n",
        "sum = 0.0\n",
        "for num in data:\n",
        "  sum += math.pow(num - a, 2)\n",
        "\n",
        "sigma_minus = sum / t2\n",
        "sigma_plus = sum / t1\n",
        "print(\"Доверительный интервал уровня 0.95\")\n",
        "print('(', sigma_minus , ',', sigma_plus, ')')"
      ],
      "metadata": {
        "colab": {
          "base_uri": "https://localhost:8080/"
        },
        "id": "Qo-WHJ4Cwi2H",
        "outputId": "563ae04a-9165-4b50-b42e-8fa3ee17f82a"
      },
      "execution_count": 60,
      "outputs": [
        {
          "output_type": "stream",
          "name": "stdout",
          "text": [
            "Доверительный интервал уровня 0.95\n",
            "( 0.33542514701764214 , 0.7403672775597244 )\n"
          ]
        }
      ]
    },
    {
      "cell_type": "code",
      "source": [
        "n = 50\n",
        "eps = 0.05\n",
        "t1 = 34.764\n",
        "t2 = 67.505\n",
        "a = -2\n",
        "\n",
        "sum = 0.0\n",
        "for num in data:\n",
        "  sum += math.pow(num - a, 2)\n",
        "\n",
        "sigma_minus = sum / t2\n",
        "sigma_plus = sum / t1\n",
        "print(\"Доверительный интервал уровня 0.9\")\n",
        "print('(', sigma_minus , ',', sigma_plus, ')')"
      ],
      "metadata": {
        "colab": {
          "base_uri": "https://localhost:8080/"
        },
        "id": "frlvy8w9wqmL",
        "outputId": "f2d233b2-9b67-4210-bf3e-bc1a8f7f09ee"
      },
      "execution_count": 61,
      "outputs": [
        {
          "output_type": "stream",
          "name": "stdout",
          "text": [
            "Доверительный интервал уровня 0.9\n",
            "( 0.3548783645655878 , 0.689105511448625 )\n"
          ]
        }
      ]
    },
    {
      "cell_type": "markdown",
      "source": [
        "##г)для $\\sigma^2$, если $α$ неизвестно"
      ],
      "metadata": {
        "id": "1i6XvhxotzLs"
      }
    },
    {
      "cell_type": "markdown",
      "source": [
        "$G(\\overrightarrow{x}, α)$ = $\\frac{n S^2}{\\sigma^2}$ ~ $T_{n-1}$\n",
        "\n",
        "$P(t_1 \\leq \\frac{n S^2}{\\sigma^2} \\leq t_2) = 1 - 𝛆$\n",
        "\n",
        "$χ_{n}^2(t_1) = \\frac{𝛆}{2}$\n",
        "\n",
        "$χ_{n}^2(t_2) = 1 -\\frac{𝛆}{2}$\n",
        "\n",
        "$P(\\frac{n S^2}{t_2} \\leq \\sigma^2 \\leq \\frac{n S^2}{t_1}) = 1 - 𝛆$"
      ],
      "metadata": {
        "id": "7013Cl4ruDQw"
      }
    },
    {
      "cell_type": "code",
      "source": [
        "n = 50\n",
        "eps = 0.01\n",
        "t1 = 27.991\n",
        "t2 = 79.490\n",
        "\n",
        "sigma_minus = n * S_2 / t2\n",
        "sigma_plus = n * S_2 / t1\n",
        "print(\"Доверительный интервал уровня 0.99\")\n",
        "print('(', sigma_minus , ',', sigma_plus, ')')"
      ],
      "metadata": {
        "colab": {
          "base_uri": "https://localhost:8080/"
        },
        "id": "Ru84t8exvCkR",
        "outputId": "bd1e4774-58d4-4c74-f934-675f41785393"
      },
      "execution_count": 62,
      "outputs": [
        {
          "output_type": "stream",
          "name": "stdout",
          "text": [
            "Доверительный интервал уровня 0.99\n",
            "( 0.2939699142030444 , 0.8348279261191097 )\n"
          ]
        }
      ]
    },
    {
      "cell_type": "code",
      "source": [
        "n = 50\n",
        "eps = 0.05\n",
        "t1 = 32.357\n",
        "t2 = 71.420\n",
        "\n",
        "sigma_minus = n * S_2 / t2\n",
        "sigma_plus = n * S_2 / t1\n",
        "print(\"Доверительный интервал уровня 0.95\")\n",
        "print('(', sigma_minus , ',', sigma_plus, ')')"
      ],
      "metadata": {
        "colab": {
          "base_uri": "https://localhost:8080/"
        },
        "id": "iKg_WRImvjsa",
        "outputId": "5d60f6e9-3888-4109-b204-5b986783c46e"
      },
      "execution_count": 63,
      "outputs": [
        {
          "output_type": "stream",
          "name": "stdout",
          "text": [
            "Доверительный интервал уровня 0.95\n",
            "( 0.3271866211145337 , 0.7221827882683809 )\n"
          ]
        }
      ]
    },
    {
      "cell_type": "code",
      "source": [
        "n = 50\n",
        "eps = 0.1\n",
        "t1 = 34.764\n",
        "t2 = 67.505\n",
        "\n",
        "sigma_minus = n * S_2 / t2\n",
        "sigma_plus = n * S_2 / t1\n",
        "print(\"Доверительный интервал уровня 0.9\")\n",
        "print('(', sigma_minus , ',', sigma_plus, ')')"
      ],
      "metadata": {
        "colab": {
          "base_uri": "https://localhost:8080/"
        },
        "id": "e1q5BF6sv_Tj",
        "outputId": "ea810145-a670-437c-b3ee-8839d8652264"
      },
      "execution_count": 64,
      "outputs": [
        {
          "output_type": "stream",
          "name": "stdout",
          "text": [
            "Доверительный интервал уровня 0.9\n",
            "( 0.34616203955262576 , 0.6721800851455528 )\n"
          ]
        }
      ]
    },
    {
      "cell_type": "markdown",
      "source": [
        "#Второе задание\n"
      ],
      "metadata": {
        "id": "5HLJU7-9yEpb"
      }
    },
    {
      "cell_type": "code",
      "source": [
        "data = [0.063, 0.058, 0.282, 0.218, 0.984, 0.514, 0.284, 0.126, 0.494, 0.416,\n",
        "        0.041, 0.521, 0.423, 0.265, 0.537, 0.467, 0.512, 0.672, 0.137, 0.083,\n",
        "        0.600, 0.749, 0.732, 0.221, 0.661, 0.725, 0.004, 0.720, 0.795, 0.334]"
      ],
      "metadata": {
        "id": "m6orRL97yQ01"
      },
      "execution_count": 65,
      "outputs": []
    },
    {
      "cell_type": "code",
      "source": [
        "import numpy as np\n",
        "import matplotlib.pyplot as plt\n",
        "\n",
        "def Indecator(num, t):\n",
        "  return num <= t\n",
        "\n",
        "def EmpericFunc(t):\n",
        "  sum = 0\n",
        "  for num in data:\n",
        "    sum += Indecator(num, t) / len(data)\n",
        "\n",
        "  return sum   "
      ],
      "metadata": {
        "id": "OQMewJK9Txv5"
      },
      "execution_count": 66,
      "outputs": []
    },
    {
      "cell_type": "markdown",
      "source": [
        "##Эмперическая функция"
      ],
      "metadata": {
        "id": "IfrfVu6UUXfw"
      }
    },
    {
      "cell_type": "code",
      "source": [
        "y = lambda x: EmpericFunc(x)\n",
        "fig = plt.subplots()\n",
        "\n",
        "x = np.linspace(-0.1, 1.1,10000)\n",
        "\n",
        "plt.plot(x, y(x))\n",
        "plt.show()"
      ],
      "metadata": {
        "colab": {
          "base_uri": "https://localhost:8080/",
          "height": 265
        },
        "id": "CICwsBh5T49e",
        "outputId": "93ca05cc-cd83-46c5-8c48-84ee6e6cfdc9"
      },
      "execution_count": 67,
      "outputs": [
        {
          "output_type": "display_data",
          "data": {
            "text/plain": [
              "<Figure size 432x288 with 1 Axes>"
            ],
            "image/png": "[encoded data removed]"
          },
          "metadata": {
            "needs_background": "light"
          }
        }
      ]
    },
    {
      "cell_type": "markdown",
      "source": [
        "##Гистограмма"
      ],
      "metadata": {
        "id": "LG7No7YEUaY-"
      }
    },
    {
      "cell_type": "code",
      "source": [
        " \n",
        "plt.hist(data, range = (0, 1), color = 'blue', edgecolor = 'black', bins = int(math.log2(50)), density = 1)"
      ],
      "metadata": {
        "colab": {
          "base_uri": "https://localhost:8080/",
          "height": 317
        },
        "id": "7Sl57CUxzgWw",
        "outputId": "888cb663-6223-4ed4-caaa-e81e1938684e"
      },
      "execution_count": 68,
      "outputs": [
        {
          "output_type": "execute_result",
          "data": {
            "text/plain": [
              "(array([1.16666667, 1.        , 1.5       , 1.16666667, 0.16666667]),\n",
              " array([0. , 0.2, 0.4, 0.6, 0.8, 1. ]),\n",
              " <a list of 5 Patch objects>)"
            ]
          },
          "metadata": {},
          "execution_count": 68
        },
        {
          "output_type": "display_data",
          "data": {
            "text/plain": [
              "<Figure size 432x288 with 1 Axes>"
            ],
            "image/png": "[encoded data removed]"
          },
          "metadata": {
            "needs_background": "light"
          }
        }
      ]
    },
    {
      "cell_type": "markdown",
      "source": [
        "##Критерий Колмогорова"
      ],
      "metadata": {
        "id": "QuFd_393UfEE"
      }
    },
    {
      "cell_type": "markdown",
      "source": [
        "$D_n = sup|F_n^*(x) - F(x)|$"
      ],
      "metadata": {
        "id": "mO-Px6riVYsZ"
      }
    },
    {
      "cell_type": "code",
      "source": [
        "z = lambda x: x\n",
        "\n",
        "plt.plot(x, y(x))\n",
        "plt.plot(x, z(x))\n",
        "plt.show()"
      ],
      "metadata": {
        "colab": {
          "base_uri": "https://localhost:8080/",
          "height": 265
        },
        "id": "-azkYgA9U0ef",
        "outputId": "1c9925de-a65b-45eb-be00-4dc57e44092b"
      },
      "execution_count": 69,
      "outputs": [
        {
          "output_type": "display_data",
          "data": {
            "text/plain": [
              "<Figure size 432x288 with 1 Axes>"
            ],
            "image/png": "[encoded data removed]"
          },
          "metadata": {
            "needs_background": "light"
          }
        }
      ]
    },
    {
      "cell_type": "code",
      "source": [
        "point = 0\n",
        "d = 0\n",
        "\n",
        "for x_ in x:\n",
        "  if (abs(y(x_) - z(x_)) > d):\n",
        "    d = abs(y(x_) - z(x_))\n",
        "    point = x_  \n",
        "\n",
        "print(\"D_n = \", d)\n",
        "print(\"достигается в точке \", point)"
      ],
      "metadata": {
        "colab": {
          "base_uri": "https://localhost:8080/"
        },
        "id": "k74TpCEjVxyz",
        "outputId": "35d3097c-e3a3-4e1b-8116-dab1f3478bf8"
      },
      "execution_count": 70,
      "outputs": [
        {
          "output_type": "stream",
          "name": "stdout",
          "text": [
            "D_n =  0.18424842484248405\n",
            "достигается в точке  0.7490849084908492\n"
          ]
        }
      ]
    },
    {
      "cell_type": "markdown",
      "source": [
        "$P(\\sqrt{n} D_n < q) ≃ 𝒦(q) = 1 - 𝛆$"
      ],
      "metadata": {
        "id": "2Y6tQQPXYqju"
      }
    },
    {
      "cell_type": "code",
      "source": [
        "eps = 0.02\n",
        "q = 1.52\n",
        "n = 30\n",
        "\n",
        "if (math.sqrt(n) * d < q):\n",
        "  print(\"Гипотеза верна\")\n",
        "else:\n",
        "  print(\"Гипотеза не верна\")  "
      ],
      "metadata": {
        "colab": {
          "base_uri": "https://localhost:8080/"
        },
        "id": "hWfJcPRJYMwB",
        "outputId": "cec9cbdc-70ce-4ada-bc19-4572056775cf"
      },
      "execution_count": 71,
      "outputs": [
        {
          "output_type": "stream",
          "name": "stdout",
          "text": [
            "Гипотеза верна\n"
          ]
        }
      ]
    },
    {
      "cell_type": "markdown",
      "source": [
        "##Критерий хи-квадрат\n"
      ],
      "metadata": {
        "id": "k-F1gMceeNwO"
      }
    },
    {
      "cell_type": "markdown",
      "source": [
        "$𝛹_n = \\sum_{i = 1}^{k} \\frac{(ν_i - np_i)^2}{np_i}$\n",
        "\n",
        "$P(𝛹_n < y) → χ^2_{k-1}(y),  n → ∞$"
      ],
      "metadata": {
        "id": "rlzH6kYB1ZgK"
      }
    },
    {
      "cell_type": "markdown",
      "source": [
        "![Wuoegd6Ucv0lSQn3DL7jWb5qiz5GAEpWxFNAX7yMwjuCtiKxQoLUf-n479cniRaeY5kzHPmlcTtLDDmnGa5BvOSu.jpg](data:image/jpeg;base64,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)"
      ],
      "metadata": {
        "id": "BnpEpmqP4bdO"
      }
    },
    {
      "cell_type": "markdown",
      "source": [
        "Как видно из полученных данных $𝛹_n = 10.666 > 2.087 = q$\n",
        "\n",
        "Значит гипотезу отвергаем"
      ],
      "metadata": {
        "id": "6M5xAMNN51Jn"
      }
    },
    {
      "cell_type": "markdown",
      "source": [
        "#Третье задание\n"
      ],
      "metadata": {
        "id": "3A4D9S2_7kut"
      }
    },
    {
      "cell_type": "code",
      "source": [
        "data1 = [-1.439, -1.609, -3.889, -1.735, -3.096, 0.023, -1.414, -2.312, -2.648, -2.038,\n",
        "        -2.631, -2.233, -1.908, -2.356, -2.107, -2.949, -3.048, -2.019, -1.652, -2.285]\n",
        "\n",
        "data2 = [-2.446, -1.752, -1.990, -1.689, -1.552, -1.916, -2.036, -1.888, -0.726, -2.874,\n",
        "        -1.426, -1.432, -1.419, -2.090, -2.698, -2.494, -2.544, -2.825, -2.951, -1.814,\n",
        "        -3.014, -2.542, -2.912, -2.291, -2.103, -1.966, -0.769, -2.474, -1.987, -1.459]"
      ],
      "metadata": {
        "id": "vUMUN_Zu8XFh"
      },
      "execution_count": 72,
      "outputs": []
    },
    {
      "cell_type": "markdown",
      "source": [
        "##a)о совпадении дисперсий\n"
      ],
      "metadata": {
        "id": "nUC9fzmy8RN0"
      }
    },
    {
      "cell_type": "code",
      "source": [
        "sample_mean1 = 0\n",
        "sample_mean2 = 0\n",
        "S1_2 = 0\n",
        "S2_2 = 0\n",
        "\n",
        "for num in data1:\n",
        "  sample_mean1 += num / 20\n",
        "\n",
        "for num in data2:\n",
        "  sample_mean2 += num / 30\n",
        "\n",
        "for num in data1:\n",
        "  S1_2 += (num - sample_mean1) * (num - sample_mean1) / 20\n",
        "\n",
        "for num in data2:\n",
        "  S2_2 += (num - sample_mean2) * (num - sample_mean2) / 30\n"
      ],
      "metadata": {
        "id": "TsOG6Fix8tRq"
      },
      "execution_count": 73,
      "outputs": []
    },
    {
      "cell_type": "markdown",
      "source": [
        "$\\frac{nS^2_1}{σ^2_1}$ ~ $ χ^2_{n-1}$\n",
        "\n",
        "$\\frac{mS^2_2}{σ^2_2}$ ~ $ χ^2_{m-1}$\n",
        "\n",
        "Эти случайные величины независимы, значит из них можно построить случайную величину, имеющую распределение Фишера\n",
        "\n",
        "$\\frac {1}{n-1} \\frac{nS^2_1}{σ^2_1} : \\frac {1}{m-1} \\frac{mS^2_2}{σ^2_2} = \\frac{n(m-1)\\sigma^2_2 S^2_1}{m(n-1)\\sigma^2_1 S^2_2}$ ~ $F_{n-1, m-1}$\n",
        "\n",
        "$\\eta = \\frac{n(m-1)\\ S^2_1}{m(n-1)\\ S^2_2}$ ~ $F_{n-1, m-1}$\n",
        "\n",
        "$P(q_1 < η < q_2) = 1 - 𝛆$\n",
        "\n",
        "$F_{n-1, m-1}(q_1) = \\frac{𝛆}{2}$\n",
        "\n",
        "$F_{n-1, m-1}(q_2) = 1 - \\frac{𝛆}{2}$"
      ],
      "metadata": {
        "id": "YQihQ_aE96A1"
      }
    },
    {
      "cell_type": "code",
      "source": [
        "n = 20\n",
        "m = 30\n",
        "epsilon = 0.02\n",
        "q1 = 0.350\n",
        "q2 = 2.598\n",
        "eta = (n * (m - 1) * S1_2) / (m * (n - 1) * S2_2)\n",
        "\n",
        "if (q1 < eta < q2):\n",
        "  print(\"Гипотеза верна\")\n",
        "else:\n",
        "  print(\"Гипотеза не верна\")  "
      ],
      "metadata": {
        "colab": {
          "base_uri": "https://localhost:8080/"
        },
        "id": "dNyhY8bpCG2c",
        "outputId": "fb726c1b-8a16-4cb3-87c4-3cbf954fbc93"
      },
      "execution_count": 74,
      "outputs": [
        {
          "output_type": "stream",
          "name": "stdout",
          "text": [
            "Гипотеза верна\n"
          ]
        }
      ]
    },
    {
      "cell_type": "markdown",
      "source": [
        "##б)о совпадении средних, если известно, что дисперсии совпадают"
      ],
      "metadata": {
        "id": "spda2_jGI0EO"
      }
    },
    {
      "cell_type": "markdown",
      "source": [
        "$\\bar{X}$ ~ $N(α_1, \\frac{\\sigma^2}{n})$ \n",
        "\n",
        "$\\bar{Y}$ ~ $N(α_2, \\frac{\\sigma^2}{m})$\n",
        "\n",
        "$\\bar{X} - \\bar{Y}$ ~ $N(α_1 - α_2, \\sigma^2(\\frac{1}{n} + \\frac{1}{m}))$\n",
        "\n",
        "$\\frac{\\bar{X} - \\bar{Y} - (α1 - α2)}{\\sqrt{\\sigma^2(\\frac{1}{n} + \\frac{1}{m})}}$ ~ $N(0, 1)$\n",
        "\n",
        "$\\frac{nS^2_1}{σ^2}$ ~ $ χ^2_{n-1}$\n",
        "\n",
        "$\\frac{mS^2_2}{σ^2}$ ~ $ χ^2_{m-1}$\n",
        "\n",
        "$\\frac{nS^2_1}{σ^2} + \\frac{mS^2_2}{σ^2}$ ~ $χ^2_{n + m - 2}$\n",
        "\n",
        "$\\frac{\\bar{X} - \\bar{Y} - (α1 - α2)}{\\sqrt{\\sigma^2(\\frac{1}{n} + \\frac{1}{m})}}$ : $\\sqrt{\\frac{1}{n + m - 2} \\frac{nS^2_1 + mS^2_2}{σ^2}}$ ~ $T_{n + m - 2}$\n",
        "\n",
        "$ψ$ = $\\frac{\\bar{X} - \\bar{Y}}{\\sqrt{\\frac{1}{n} + \\frac{1}{m}} \\sqrt{\\frac{nS_1^2 + mS_2^2}{n + m - 2}}}$ ~ $T_{n + m - 2}$\n",
        "\n",
        "$P(-q < ψ < q) = T_{n + m - 2}(q) - T_{n + m - 2}(-q) = 1 - \\frac{𝛆}{2} - \\frac{𝛆}{2} = 1 - 𝛆$"
      ],
      "metadata": {
        "id": "pt8bQQdmJH6X"
      }
    },
    {
      "cell_type": "code",
      "source": [
        "eps = 0.02\n",
        "n = 20\n",
        "m = 30\n",
        "q = 2.4066\n",
        "psi = (sample_mean1 - sample_mean2) / ((math.sqrt(1/n + 1/m)) * (math.sqrt((n * S1_2 + m * S2_2) / (n + m - 2))))\n",
        "\n",
        "if (-q < psi < q):\n",
        "  print(\"Гипотеза верна\")\n",
        "else:\n",
        "  print(\"Гипотеза не верна\")  "
      ],
      "metadata": {
        "colab": {
          "base_uri": "https://localhost:8080/"
        },
        "id": "OvfZvpbKHJm9",
        "outputId": "e5e2fc7f-6ecc-45c1-98d4-7529dc96ef0f"
      },
      "execution_count": 75,
      "outputs": [
        {
          "output_type": "stream",
          "name": "stdout",
          "text": [
            "Гипотеза верна\n"
          ]
        }
      ]
    }
  ]
}